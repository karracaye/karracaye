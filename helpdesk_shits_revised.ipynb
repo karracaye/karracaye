{
  "cells": [
    {
      "cell_type": "markdown",
      "metadata": {
        "id": "view-in-github",
        "colab_type": "text"
      },
      "source": [
        "<a href=\"https://colab.research.google.com/github/karracaye/karracaye/blob/main/helpdesk_shits_revised.ipynb\" target=\"_parent\"><img src=\"https://colab.research.google.com/assets/colab-badge.svg\" alt=\"Open In Colab\"/></a>"
      ]
    },
    {
      "cell_type": "code",
      "execution_count": null,
      "metadata": {
        "scrolled": true,
        "id": "hLBnskNIMccD",
        "colab": {
          "base_uri": "https://localhost:8080/"
        },
        "outputId": "433a620e-83f3-48ce-daba-b07aa516720f"
      },
      "outputs": [
        {
          "output_type": "stream",
          "name": "stdout",
          "text": [
            "Looking in indexes: https://pypi.org/simple, https://us-python.pkg.dev/colab-wheels/public/simple/\n",
            "Collecting neologdn\n",
            "  Downloading neologdn-0.5.1.tar.gz (57 kB)\n",
            "\u001b[K     |████████████████████████████████| 57 kB 565 kB/s \n",
            "\u001b[?25hCollecting unidic-lite\n",
            "  Downloading unidic-lite-1.0.8.tar.gz (47.4 MB)\n",
            "\u001b[K     |████████████████████████████████| 47.4 MB 1.5 MB/s \n",
            "\u001b[?25hCollecting fugashi\n",
            "  Downloading fugashi-1.2.1-cp38-cp38-manylinux_2_17_x86_64.manylinux2014_x86_64.whl (615 kB)\n",
            "\u001b[K     |████████████████████████████████| 615 kB 55.4 MB/s \n",
            "\u001b[?25hBuilding wheels for collected packages: neologdn, unidic-lite\n",
            "  Building wheel for neologdn (setup.py) ... \u001b[?25l\u001b[?25hdone\n",
            "  Created wheel for neologdn: filename=neologdn-0.5.1-cp38-cp38-linux_x86_64.whl size=178322 sha256=fd25a993619e91273e7c5153fb516031821dcb2144720d98d58dccbf0fd9d3d2\n",
            "  Stored in directory: /root/.cache/pip/wheels/3e/db/10/b3b26caa63c5da86ea3a25043cc4379a66bb3dd30d6f060a37\n",
            "  Building wheel for unidic-lite (setup.py) ... \u001b[?25l\u001b[?25hdone\n",
            "  Created wheel for unidic-lite: filename=unidic_lite-1.0.8-py3-none-any.whl size=47658837 sha256=28375d9f9e4493547c404ea5d28cfb2074cc9fef5aea37115d99c813883b2bc3\n",
            "  Stored in directory: /root/.cache/pip/wheels/8c/dd/8f/e21fc192dcd38ae31e1185ce4e66e12df4e811e3d469866e15\n",
            "Successfully built neologdn unidic-lite\n"
          ]
        }
      ],
      "source": [
        "!pip install neologdn unidic-lite fugashi\n",
        "!pip install wordcloud"
      ]
    },
    {
      "cell_type": "markdown",
      "source": [
        "### Importing"
      ],
      "metadata": {
        "id": "DfZleqxeFH3U"
      }
    },
    {
      "cell_type": "code",
      "execution_count": null,
      "metadata": {
        "id": "tWDHMd18AbrA",
        "scrolled": true,
        "colab": {
          "base_uri": "https://localhost:8080/",
          "height": 17
        },
        "outputId": "83a9b738-8215-4305-e4bc-538c590ceb11"
      },
      "outputs": [
        {
          "output_type": "display_data",
          "data": {
            "text/plain": [
              "<IPython.core.display.HTML object>"
            ],
            "text/html": [
              "<style>.container { width:100% !important; }</style>"
            ]
          },
          "metadata": {}
        }
      ],
      "source": [
        "import keras \n",
        "import numpy as np\n",
        "from keras.preprocessing.text import Tokenizer\n",
        "import numpy as np\n",
        "import pandas as pd\n",
        "from keras.models import Sequential\n",
        "from keras.layers import Dense\n",
        "from keras_preprocessing.sequence import pad_sequences\n",
        "from keras.layers import Input, Dense, Dropout, Embedding, LSTM, Flatten\n",
        "from keras.models import Model\n",
        "from tensorflow.keras.utils import to_categorical\n",
        "from keras.callbacks import ModelCheckpoint\n",
        "import seaborn as sns\n",
        "import matplotlib.pyplot as plt\n",
        "from sklearn.model_selection import train_test_split\n",
        "from sklearn.metrics import accuracy_score\n",
        "plt.style.use('ggplot')\n",
        "%matplotlib inline\n",
        "from IPython.core.display import display, HTML \n",
        "display(HTML(\"<style>.container { width:100% !important; }</style>\"))# libraries\n",
        "\n",
        "from fugashi import Tagger\n",
        "import pandas as pd\n",
        "import neologdn\n",
        "from nltk.corpus import stopwords\n",
        "import numpy as np\n",
        "from time import time \n",
        "import spacy\n",
        "import nltk\n",
        "from datetime import datetime\n",
        "import pandas as pd\n",
        "import fugashi"
      ]
    },
    {
      "cell_type": "code",
      "source": [
        "# Load and mount the google drive to fetch datasets\n",
        "from google.colab import drive\n",
        "drive.mount('/content/gdrive')"
      ],
      "metadata": {
        "id": "XbTgXk5DMjKe",
        "colab": {
          "base_uri": "https://localhost:8080/"
        },
        "outputId": "92d3a30c-8ae0-481e-c9a1-8c829efeb6a3"
      },
      "execution_count": null,
      "outputs": [
        {
          "output_type": "stream",
          "name": "stdout",
          "text": [
            "Mounted at /content/gdrive\n"
          ]
        }
      ]
    },
    {
      "cell_type": "markdown",
      "metadata": {
        "id": "NM8tHygWMccH"
      },
      "source": [
        "### Configuration"
      ]
    },
    {
      "cell_type": "code",
      "execution_count": null,
      "metadata": {
        "id": "f-VVopYfAbtL",
        "scrolled": true
      },
      "outputs": [],
      "source": [
        "gdrivePath = \"/content/gdrive/MyDrive/Colab Notebooks/\"\n",
        "data2021 = pd.read_excel(gdrivePath + 'database_balance.xlsx')"
      ]
    },
    {
      "cell_type": "code",
      "source": [
        "data2021.shape"
      ],
      "metadata": {
        "id": "AUefu6wrHH8E"
      },
      "execution_count": null,
      "outputs": []
    },
    {
      "cell_type": "code",
      "source": [
        "# One `Description` One `Category`\n",
        "common = []\n",
        "for col in data2021.columns:\n",
        "    if col not in common:\n",
        "        common.append(col)\n",
        "\n",
        "length = len(common)\n",
        "print(common)\n",
        "common_columns = []\n",
        "for comm in common:\n",
        "    if comm in data2021.columns:\n",
        "        common_columns.append(comm)\n",
        "        print(comm)\n",
        "\n",
        "# Remove other columns\n",
        "# Uniform categories\n",
        "combined = data2021[['Description', 'Category']]\n",
        "combined['Category'] = combined['Category'].str.lower()\n",
        "combined2 = combined[ (combined.Description != '') | (combined.Category != '') ]"
      ],
      "metadata": {
        "id": "F64Z0nmpN66M"
      },
      "execution_count": null,
      "outputs": []
    },
    {
      "cell_type": "code",
      "execution_count": null,
      "metadata": {
        "id": "dI5UrhCeAcRg",
        "scrolled": true
      },
      "outputs": [],
      "source": [
        "# Natural Language Processing training data\n",
        "timer = str(datetime.now())\n",
        "start = time() \n",
        "\n",
        "# Extracting the text from data frame \n",
        "texts = combined2.loc[:,'Description'] \n",
        "print(texts)\n",
        "sizeof = len(texts)\n",
        "# print(texts.dtypes)\n",
        "tagger = Tagger('-Owakati')\n",
        "# define empty lists\n",
        "non_filtered_sentence =[]\n",
        "hexy = []\n",
        "del_words = []\n",
        "new_list=[]\n",
        "\n",
        "# #importing stopwords from copura\n",
        "#stop_words = stopwords.words('english')\n",
        "f = open(gdrivePath + \"/Karra Colab Notebooks/english\", \"r\")\n",
        "stop_words = [f.read()]\n",
        "del_words.append(stop_words) # append a list for adeltion words\n",
        "#Lemmitization by spacy for words \n",
        "nlp = spacy.load(\"en_core_web_sm\")\n",
        "# #print(stop_words)\n",
        "# # Normalize the text for if any text is repeating 2 times \n",
        "for text in texts:\n",
        "    \n",
        "     text = neologdn.normalize(text, repeat=0)\n",
        "     text = ''.join([i for i in text if i.isalpha() or i.isspace()])\n",
        "     #print(text)\n",
        "     tokens = tagger.parse(text).replace(\" \", \",\")\n",
        "     non_filtered_sentence.append(tokens)\n",
        "     \n",
        "     #print(tokens)\n",
        "end = time()  \n",
        "  \n",
        "print(\"normalizing done\", end-start)\n",
        "print(texts)"
      ]
    },
    {
      "cell_type": "code",
      "execution_count": null,
      "metadata": {
        "id": "GmatSqJFAcUy",
        "scrolled": true
      },
      "outputs": [],
      "source": [
        "non_filtered_sentence"
      ]
    },
    {
      "cell_type": "code",
      "execution_count": null,
      "metadata": {
        "id": "2lbcffleAcYP",
        "scrolled": true
      },
      "outputs": [],
      "source": [
        "start = time() \n",
        "for word in non_filtered_sentence:\n",
        "     word = word.split(\",\")\n",
        "     new_list.append(word)\n",
        "    \n",
        "count=0\n",
        "dexy= []\n",
        "mensai_text=[]"
      ]
    },
    {
      "cell_type": "code",
      "execution_count": null,
      "metadata": {
        "id": "P6CM0yx5AcbZ",
        "scrolled": true,
        "colab": {
          "base_uri": "https://localhost:8080/"
        },
        "outputId": "48db2dc0-059b-4dc2-9d3b-00ce7417e164"
      },
      "outputs": [
        {
          "output_type": "stream",
          "name": "stdout",
          "text": [
            ", Lamitization and stopword filter done in  0.06814193725585938\n"
          ]
        }
      ],
      "source": [
        "start = time() \n",
        "# filter stop words in parsed text and lametize it\n",
        "\n",
        "for list in new_list:\n",
        "     filtered = []\n",
        "     count+=1\n",
        "     if count >5000:\n",
        "         sizeof = sizeof-5000\n",
        "         print(\"remaining .... \", sizeof)\n",
        "         count=0\n",
        "     for wordy in list:\n",
        "         if wordy not in stop_words:\n",
        "             #nlp(wordy)\n",
        "             \n",
        "             filtered.append(wordy)\n",
        "             \n",
        "     hexy.append(filtered)\n",
        "     dexy.append(wordy)\n",
        "     \n",
        "for list in hexy: \n",
        "    #print(list)\n",
        "    newlst = (\",\".join(list))\n",
        "    mensai_text.append(newlst)\n",
        "\n",
        "len(mensai_text)\n",
        "end = time()\n",
        "print(\", Lamitization and stopword filter done in \", end-start)\n",
        "# to check the frequency distribution of words\n"
      ]
    },
    {
      "cell_type": "code",
      "execution_count": null,
      "metadata": {
        "id": "LCSLBktrAciQ",
        "scrolled": true,
        "colab": {
          "base_uri": "https://localhost:8080/"
        },
        "outputId": "e8f60f53-9f47-44d6-94d0-c6b3cf34d877"
      },
      "outputs": [
        {
          "output_type": "stream",
          "name": "stdout",
          "text": [
            "\n",
            "# FreqDist\n"
          ]
        }
      ],
      "source": [
        "most_common = []\n",
        "long_string= \" \".join(map(str,dexy))    \n",
        "fdist = nltk.FreqDist(dexy)    \n",
        "print(\"\\n# FreqDist\")\n"
      ]
    },
    {
      "cell_type": "code",
      "execution_count": null,
      "metadata": {
        "id": "0PDn-Ax1BBMw",
        "scrolled": true,
        "colab": {
          "base_uri": "https://localhost:8080/",
          "height": 396
        },
        "outputId": "b16728d1-a93c-4152-c5f6-52163923420b"
      },
      "outputs": [
        {
          "output_type": "stream",
          "name": "stdout",
          "text": [
            "[('en', 353), ('regards', 328), ('thanks', 280), ('engineer', 269), ('manager', 237), ('developer', 167), ('you', 164), ('thank', 157), ('ext', 155), ('officer', 151), ('lead', 149), ('administrator', 139), ('tester', 119), ('analyst', 82), ('consultant', 70), ('specialist', 61), ('msg', 54), ('requests', 37), ('zone', 36), ('head', 34), ('district', 32), ('folder', 30), ('mobile', 29), ('area', 28), ('resolutions', 27), ('messages', 27), ('days', 26), ('leader', 26), ('main', 24), ('payable', 23), ('hub', 23), ('client', 21), ('mob', 19), ('notified', 19), ('by', 19), ('north', 19), ('accountant', 18), ('phone', 18), ('details', 18), ('coordinator', 17), ('master', 17), ('number', 16), ('suppress', 16), ('print', 15), ('image', 15), ('director', 15), ('omissions', 14), ('managed', 14), ('infrastructure', 13), ('or', 13)]\n"
          ]
        },
        {
          "output_type": "display_data",
          "data": {
            "text/plain": [
              "<Figure size 432x288 with 1 Axes>"
            ],
            "image/png": "[encoded data removed]"
          },
          "metadata": {
            "needs_background": "light"
          }
        },
        {
          "output_type": "stream",
          "name": "stdout",
          "text": [
            "[[('en', 353), ('regards', 328), ('thanks', 280), ('engineer', 269), ('manager', 237), ('developer', 167), ('you', 164), ('thank', 157), ('ext', 155), ('officer', 151)]]\n"
          ]
        }
      ],
      "source": [
        "check_num = 50\n",
        "print(fdist.most_common(check_num))\n",
        "fdist.plot(check_num)\n",
        "most_common.append(fdist.most_common(10))\n",
        "start = time() \n",
        "print(most_common)\n",
        "\n"
      ]
    },
    {
      "cell_type": "code",
      "source": [
        "from wordcloud import WordCloud, STOPWORDS\n",
        "import matplotlib.pyplot as plt\n",
        "import pandas as pd\n",
        "df = pd.read_excel(gdrivePath + 'database_balance.xlsx')\n",
        "\n",
        "comment_words = ''\n",
        "stopwords = set(STOPWORDS)\n",
        "\n",
        "for val in df.Description:\n",
        "\n",
        "\n",
        "  val = str(val)\n",
        "\n",
        "  tokens = val.split()\n",
        "\n",
        "  for i in range(len(tokens)):\n",
        "    token[i] = tokens[i].lower()\n",
        "\n",
        "    comment_words += \" \".join(tokens)+\" \"\n",
        "\n",
        "wordcloud = WordCloud(width = 800, height = 800,\n",
        "            background_color = \"white\",\n",
        "            stopwords = stopwords,\n",
        "            min_font_size = 10). generate(comment_words)\n",
        "\n",
        "\n",
        "plt.figure(figsize = (8,8), facecolor = None)\n",
        "plt.imshow(wordcloud)\n",
        "plt.axis(\"off\")\n",
        "plt.tight_layout(pad = 0)\n",
        "\n",
        "plt.show()"
      ],
      "metadata": {
        "colab": {
          "base_uri": "https://localhost:8080/",
          "height": 236
        },
        "id": "hsEU2YluBz_9",
        "outputId": "e82cb6ef-8bd0-467b-e1e0-0db8d86d62c4"
      },
      "execution_count": null,
      "outputs": [
        {
          "output_type": "error",
          "ename": "NameError",
          "evalue": "ignored",
          "traceback": [
            "\u001b[0;31m---------------------------------------------------------------------------\u001b[0m",
            "\u001b[0;31mNameError\u001b[0m                                 Traceback (most recent call last)",
            "\u001b[0;32m<ipython-input-18-aeb35d7561be>\u001b[0m in \u001b[0;36m<module>\u001b[0;34m\u001b[0m\n\u001b[1;32m     15\u001b[0m \u001b[0;34m\u001b[0m\u001b[0m\n\u001b[1;32m     16\u001b[0m   \u001b[0;32mfor\u001b[0m \u001b[0mi\u001b[0m \u001b[0;32min\u001b[0m \u001b[0mrange\u001b[0m\u001b[0;34m(\u001b[0m\u001b[0mlen\u001b[0m\u001b[0;34m(\u001b[0m\u001b[0mtokens\u001b[0m\u001b[0;34m)\u001b[0m\u001b[0;34m)\u001b[0m\u001b[0;34m:\u001b[0m\u001b[0;34m\u001b[0m\u001b[0;34m\u001b[0m\u001b[0m\n\u001b[0;32m---> 17\u001b[0;31m     \u001b[0mtoken\u001b[0m\u001b[0;34m[\u001b[0m\u001b[0mi\u001b[0m\u001b[0;34m]\u001b[0m \u001b[0;34m=\u001b[0m \u001b[0mtokens\u001b[0m\u001b[0;34m[\u001b[0m\u001b[0mi\u001b[0m\u001b[0;34m]\u001b[0m\u001b[0;34m.\u001b[0m\u001b[0mlower\u001b[0m\u001b[0;34m(\u001b[0m\u001b[0;34m)\u001b[0m\u001b[0;34m\u001b[0m\u001b[0;34m\u001b[0m\u001b[0m\n\u001b[0m\u001b[1;32m     18\u001b[0m \u001b[0;34m\u001b[0m\u001b[0m\n\u001b[1;32m     19\u001b[0m     \u001b[0mcomment_words\u001b[0m \u001b[0;34m+=\u001b[0m \u001b[0;34m\" \"\u001b[0m\u001b[0;34m.\u001b[0m\u001b[0mjoin\u001b[0m\u001b[0;34m(\u001b[0m\u001b[0mtokens\u001b[0m\u001b[0;34m)\u001b[0m\u001b[0;34m+\u001b[0m\u001b[0;34m\" \"\u001b[0m\u001b[0;34m\u001b[0m\u001b[0;34m\u001b[0m\u001b[0m\n",
            "\u001b[0;31mNameError\u001b[0m: name 'token' is not defined"
          ]
        }
      ]
    },
    {
      "cell_type": "code",
      "source": [
        "!pip install wordcloud"
      ],
      "metadata": {
        "colab": {
          "base_uri": "https://localhost:8080/"
        },
        "id": "bQoz-jgMFrxU",
        "outputId": "73aa62f6-12d1-47f8-87d6-09bf6cae8e60"
      },
      "execution_count": null,
      "outputs": [
        {
          "output_type": "stream",
          "name": "stdout",
          "text": [
            "Looking in indexes: https://pypi.org/simple, https://us-python.pkg.dev/colab-wheels/public/simple/\n",
            "Requirement already satisfied: wordcloud in /usr/local/lib/python3.8/dist-packages (1.8.2.2)\n",
            "Requirement already satisfied: matplotlib in /usr/local/lib/python3.8/dist-packages (from wordcloud) (3.2.2)\n",
            "Requirement already satisfied: numpy>=1.6.1 in /usr/local/lib/python3.8/dist-packages (from wordcloud) (1.21.6)\n",
            "Requirement already satisfied: pillow in /usr/local/lib/python3.8/dist-packages (from wordcloud) (7.1.2)\n",
            "Requirement already satisfied: pyparsing!=2.0.4,!=2.1.2,!=2.1.6,>=2.0.1 in /usr/local/lib/python3.8/dist-packages (from matplotlib->wordcloud) (3.0.9)\n",
            "Requirement already satisfied: kiwisolver>=1.0.1 in /usr/local/lib/python3.8/dist-packages (from matplotlib->wordcloud) (1.4.4)\n",
            "Requirement already satisfied: python-dateutil>=2.1 in /usr/local/lib/python3.8/dist-packages (from matplotlib->wordcloud) (2.8.2)\n",
            "Requirement already satisfied: cycler>=0.10 in /usr/local/lib/python3.8/dist-packages (from matplotlib->wordcloud) (0.11.0)\n",
            "Requirement already satisfied: six>=1.5 in /usr/local/lib/python3.8/dist-packages (from python-dateutil>=2.1->matplotlib->wordcloud) (1.15.0)\n"
          ]
        }
      ]
    },
    {
      "cell_type": "code",
      "execution_count": null,
      "metadata": {
        "id": "pQhwQ5U3BBlf",
        "scrolled": true
      },
      "outputs": [],
      "source": [
        "def StopLemmaRemoval(sentences):\n",
        "  nlp = spacy.load(\"en_core_web_sm\")\n",
        "  f = open(gdrivePath + \"/Karra Colab Notebooks/english\", \"r\")\n",
        "  stop_words = [f.read()]\n",
        "  punctuation = \"、＜。＞・？’”；：「｛」｝￥｜＝＋－＿）（＊＆＾％＄＃＠！～‘１２３４５６７８９０'\\u3000'⇔//\"\n",
        "  array = sentences.to_numpy(dtype = str)\n",
        "  tagger = fugashi.Tagger()\n",
        "  cleaned_array = []\n",
        "  count = 0\n",
        "  sizeof = len(sentences)\n",
        "  for text in array:\n",
        "    count+=1\n",
        "    if count > 500:\n",
        "      sizeof = sizeof - 500\n",
        "      print(\"Remaining is \", sizeof)\n",
        "      count = 0\n",
        "    clean_text = []\n",
        "    words = [word.surface for word in tagger(str(text))]\n",
        "    for word in words:\n",
        "      if word not in stop_words:\n",
        "        if word not in punctuation:\n",
        "          clean_text.append(word)\n",
        "    finallycleaned = \"\"\n",
        "    clean_sen = \" \".join(clean_text)\n",
        "    clean_lemma = []\n",
        "    doc = nlp(clean_sen)\n",
        "    for token in doc:\n",
        "      if not token.lemma_.isnumeric():\n",
        "        clean_lemma.append(token.lemma_) \n",
        "    cleaned_array.append(' '.join(clean_lemma))\n",
        "  return cleaned_array"
      ]
    },
    {
      "cell_type": "code",
      "execution_count": null,
      "metadata": {
        "id": "GN0pUeR9BBtI",
        "scrolled": true,
        "colab": {
          "base_uri": "https://localhost:8080/"
        },
        "outputId": "b2c75c95-7da6-4ebe-8ff5-aec968e1812c"
      },
      "outputs": [
        {
          "output_type": "stream",
          "name": "stdout",
          "text": [
            "Remaining is  4300\n",
            "Remaining is  3800\n",
            "Remaining is  3300\n",
            "Remaining is  2800\n",
            "Remaining is  2300\n",
            "Remaining is  1800\n",
            "Remaining is  1300\n",
            "Remaining is  800\n",
            "Remaining is  300\n"
          ]
        }
      ],
      "source": [
        "Meisei = StopLemmaRemoval(combined2['Description'])"
      ]
    },
    {
      "cell_type": "code",
      "execution_count": null,
      "metadata": {
        "id": "lOvPkcemBBw8",
        "scrolled": true
      },
      "outputs": [],
      "source": [
        "X = pd.DataFrame(Meisei)\n",
        "Y = combined2['Category']"
      ]
    },
    {
      "cell_type": "code",
      "execution_count": null,
      "metadata": {
        "id": "FaWmudENBB6e",
        "scrolled": true
      },
      "outputs": [],
      "source": [
        "df4 = pd.concat([X,Y], axis=1)"
      ]
    },
    {
      "cell_type": "markdown",
      "source": [
        "### Transformer Block"
      ],
      "metadata": {
        "id": "711HlSNQE6lb"
      }
    },
    {
      "cell_type": "code",
      "execution_count": null,
      "metadata": {
        "id": "dO_hrNTGBCAa",
        "scrolled": true
      },
      "outputs": [],
      "source": [
        "import tensorflow as tf\n",
        "from tensorflow import keras\n",
        "from tensorflow.keras.layers import MultiHeadAttention, LayerNormalization, Dropout, Layer\n",
        "from tensorflow.keras.layers import Embedding, Input, GlobalAveragePooling1D, Dense\n",
        "from tensorflow.keras.datasets import imdb\n",
        "from tensorflow.keras.models import Sequential, Model\n",
        "import numpy as np\n",
        "import warnings\n",
        "from tensorflow.keras.preprocessing.text import Tokenizer\n",
        "from tensorflow.keras.preprocessing.sequence import pad_sequences\n",
        "warnings.filterwarnings(\"ignore\", category=np.VisibleDeprecationWarning)"
      ]
    },
    {
      "cell_type": "code",
      "execution_count": null,
      "metadata": {
        "id": "d3JvHMPNBOPk",
        "scrolled": true
      },
      "outputs": [],
      "source": [
        "class TransformerBlock(Layer):\n",
        "    def __init__(self, embed_dim, num_heads, ff_dim, rate=0.1):\n",
        "        super(TransformerBlock, self).__init__()\n",
        "        self.att = MultiHeadAttention(num_heads=num_heads, key_dim=embed_dim)\n",
        "        self.ffn = Sequential(\n",
        "            [Dense(ff_dim, activation=\"relu\"), \n",
        "             Dense(embed_dim),]\n",
        "        )\n",
        "        self.layernorm1 = LayerNormalization(epsilon=1e-6)\n",
        "        self.layernorm2 = LayerNormalization(epsilon=1e-6)\n",
        "        self.dropout1 = Dropout(rate)\n",
        "        self.dropout2 = Dropout(rate)\n",
        "\n",
        "    def call(self, inputs, training):\n",
        "        attn_output = self.att(inputs, inputs)\n",
        "        attn_output = self.dropout1(attn_output, training=training)\n",
        "        out1 = self.layernorm1(inputs + attn_output)\n",
        "        ffn_output = self.ffn(out1)\n",
        "        ffn_output = self.dropout2(ffn_output, training=training)\n",
        "        return self.layernorm2(out1 + ffn_output)\n",
        "\n",
        "class TokenAndPositionEmbedding(Layer):\n",
        "    def __init__(self, maxlen, vocab_size, embed_dim):\n",
        "        super(TokenAndPositionEmbedding, self).__init__()\n",
        "        self.token_emb = Embedding(input_dim=vocab_size, output_dim=embed_dim)\n",
        "        self.pos_emb = Embedding(input_dim=maxlen, output_dim=embed_dim)\n",
        "\n",
        "    def call(self, x):\n",
        "        maxlen = tf.shape(x)[-1]\n",
        "        positions = tf.range(start=0, limit=maxlen, delta=1)\n",
        "        positions = self.pos_emb(positions)\n",
        "        x = self.token_emb(x)\n",
        "        return x + positions"
      ]
    },
    {
      "cell_type": "code",
      "execution_count": null,
      "metadata": {
        "id": "Py6hnAmtBQBY",
        "scrolled": true,
        "colab": {
          "base_uri": "https://localhost:8080/"
        },
        "outputId": "b3ce7a30-d125-481e-9fe7-5a12ebcc6f21"
      },
      "outputs": [
        {
          "output_type": "stream",
          "name": "stdout",
          "text": [
            "(3840,) (960,)\n"
          ]
        }
      ],
      "source": [
        "from sklearn.model_selection import train_test_split\n",
        "X_train, X_test, y_train, y_test = train_test_split( df4[0], df4['Category'], test_size=0.2, random_state=42,stratify = df4['Category'], shuffle = True)\n",
        "print(X_train.shape, X_test.shape)"
      ]
    },
    {
      "cell_type": "code",
      "execution_count": null,
      "metadata": {
        "id": "2svdispcBQJ3",
        "scrolled": true
      },
      "outputs": [],
      "source": [
        "import numpy as np\n",
        "\n",
        "import keras\n",
        "\n",
        "from keras.models import Model\n",
        "from keras.layers import Dense, Activation, concatenate, Embedding, Input\n",
        "from sklearn.feature_extraction.text import TfidfVectorizer\n",
        "from sklearn.model_selection import train_test_split\n",
        "from keras.preprocessing.text import Tokenizer\n",
        "\n",
        "\n",
        "vectorizer = TfidfVectorizer(max_features=300)\n",
        "vectorizer = vectorizer.fit(X_train)\n",
        "df_train = vectorizer.transform(X_train)"
      ]
    },
    {
      "cell_type": "code",
      "execution_count": null,
      "metadata": {
        "id": "U_eGvCKIBV3v",
        "scrolled": true,
        "colab": {
          "base_uri": "https://localhost:8080/"
        },
        "outputId": "5a9f31a4-da71-4e1c-8066-8bd27734667b"
      },
      "outputs": [
        {
          "output_type": "stream",
          "name": "stdout",
          "text": [
            "Found 6570 unique tokens.\n"
          ]
        }
      ],
      "source": [
        "n_most_common_words = 10771\n",
        "max_len = 35\n",
        "tokenizer = Tokenizer(num_words=n_most_common_words)\n",
        "tokenizer.fit_on_texts(X_train.values.ravel())\n",
        "sequences = tokenizer.texts_to_sequences(X_train.values.ravel())\n",
        "word_index = tokenizer.word_index\n",
        "print('Found %s unique tokens.' % len(word_index))\n",
        "X = pad_sequences(sequences, maxlen=max_len)"
      ]
    },
    {
      "cell_type": "code",
      "execution_count": null,
      "metadata": {
        "id": "mneahAGIBV6V",
        "scrolled": true
      },
      "outputs": [],
      "source": [
        "from sklearn.preprocessing import LabelEncoder\n",
        "from keras.utils.np_utils import to_categorical\n",
        "from keras import regularizers\n",
        "\n",
        "ydf = y_train\n",
        "y = ydf.to_numpy()\n",
        "test_list = []\n",
        "for ele in y:\n",
        "    test_list.append(str(ele))\n",
        "Yencoder = LabelEncoder()\n",
        "target_encoded_train = Yencoder.fit_transform(test_list)\n",
        "y_encoded_train = target_encoded_train\n",
        "labels_train = to_categorical(y_encoded_train)"
      ]
    },
    {
      "cell_type": "code",
      "execution_count": null,
      "metadata": {
        "id": "GvgjZGWKBV9N",
        "scrolled": true,
        "colab": {
          "base_uri": "https://localhost:8080/"
        },
        "outputId": "d74be00d-24c9-49bf-8267-500c7a29aea3"
      },
      "outputs": [
        {
          "output_type": "stream",
          "name": "stdout",
          "text": [
            "Model: \"model\"\n",
            "_________________________________________________________________\n",
            " Layer (type)                Output Shape              Param #   \n",
            "=================================================================\n",
            " input_1 (InputLayer)        [(None, 35)]              0         \n",
            "                                                                 \n",
            " token_and_position_embeddin  (None, 35, 200)          2161200   \n",
            " g (TokenAndPositionEmbeddin                                     \n",
            " g)                                                              \n",
            "                                                                 \n",
            " transformer_block (Transfor  (None, 35, 200)          362500    \n",
            " merBlock)                                                       \n",
            "                                                                 \n",
            " global_average_pooling1d (G  (None, 200)              0         \n",
            " lobalAveragePooling1D)                                          \n",
            "                                                                 \n",
            " dropout_2 (Dropout)         (None, 200)               0         \n",
            "                                                                 \n",
            " dense_2 (Dense)             (None, 80)                16080     \n",
            "                                                                 \n",
            " dropout_3 (Dropout)         (None, 80)                0         \n",
            "                                                                 \n",
            " dense_3 (Dense)             (None, 20)                1620      \n",
            "                                                                 \n",
            " dropout_4 (Dropout)         (None, 20)                0         \n",
            "                                                                 \n",
            " dense_4 (Dense)             (None, 3)                 63        \n",
            "                                                                 \n",
            "=================================================================\n",
            "Total params: 2,541,463\n",
            "Trainable params: 2,541,463\n",
            "Non-trainable params: 0\n",
            "_________________________________________________________________\n"
          ]
        }
      ],
      "source": [
        "embed_dim = 200  # Embedding size for each token\n",
        "num_heads = 2  # Number of attention heads\n",
        "ff_dim = 100  # Hidden layer size in feed forward network inside transformer\n",
        "\n",
        "inputs = Input(shape=(max_len,))\n",
        "\n",
        "embedding_layer = TokenAndPositionEmbedding(max_len, n_most_common_words, embed_dim)\n",
        "x = embedding_layer(inputs)\n",
        "transformer_block = TransformerBlock(embed_dim, num_heads, ff_dim)\n",
        "x = transformer_block(x)\n",
        "x = GlobalAveragePooling1D()(x)\n",
        "x = Dropout(0.1)(x)\n",
        "x = Dense(80, activation=\"relu\")(x)\n",
        "x = Dropout(0.5)(x)\n",
        "x = Dense(20, activation=\"relu\")(x)\n",
        "x = Dropout(0.2)(x)\n",
        "\n",
        "outputs = Dense(3, activation=\"softmax\")(x)\n",
        "\n",
        "model = Model(inputs=inputs, outputs=outputs)\n",
        "model.summary()"
      ]
    },
    {
      "cell_type": "code",
      "execution_count": null,
      "metadata": {
        "id": "KC3Frj3kBV_y",
        "scrolled": true,
        "colab": {
          "base_uri": "https://localhost:8080/"
        },
        "outputId": "9135bc81-6dbe-4156-dba7-e3618554499c"
      },
      "outputs": [
        {
          "output_type": "stream",
          "name": "stdout",
          "text": [
            "Epoch 1/15\n",
            "7/7 [==============================] - 4s 98ms/step - loss: 1.0958 - accuracy: 0.4111 - val_loss: 1.0380 - val_accuracy: 0.4479\n",
            "Epoch 2/15\n",
            "7/7 [==============================] - 0s 36ms/step - loss: 1.0009 - accuracy: 0.4753 - val_loss: 0.8736 - val_accuracy: 0.6068\n",
            "Epoch 3/15\n",
            "7/7 [==============================] - 0s 36ms/step - loss: 0.8322 - accuracy: 0.5993 - val_loss: 0.6310 - val_accuracy: 0.6758\n",
            "Epoch 4/15\n",
            "7/7 [==============================] - 0s 36ms/step - loss: 0.6760 - accuracy: 0.6761 - val_loss: 0.5628 - val_accuracy: 0.7305\n",
            "Epoch 5/15\n",
            "7/7 [==============================] - 0s 36ms/step - loss: 0.5397 - accuracy: 0.7474 - val_loss: 0.4137 - val_accuracy: 0.8216\n",
            "Epoch 6/15\n",
            "7/7 [==============================] - 0s 36ms/step - loss: 0.4211 - accuracy: 0.8203 - val_loss: 0.3595 - val_accuracy: 0.8451\n",
            "Epoch 7/15\n",
            "7/7 [==============================] - 0s 37ms/step - loss: 0.3364 - accuracy: 0.8688 - val_loss: 0.3699 - val_accuracy: 0.8359\n",
            "Epoch 8/15\n",
            "7/7 [==============================] - 0s 36ms/step - loss: 0.2829 - accuracy: 0.8965 - val_loss: 0.6135 - val_accuracy: 0.7552\n",
            "Epoch 9/15\n",
            "7/7 [==============================] - 0s 37ms/step - loss: 0.3386 - accuracy: 0.8600 - val_loss: 0.3889 - val_accuracy: 0.8398\n",
            "Epoch 10/15\n",
            "7/7 [==============================] - 0s 36ms/step - loss: 0.2313 - accuracy: 0.9076 - val_loss: 0.4271 - val_accuracy: 0.8411\n",
            "Epoch 11/15\n",
            "7/7 [==============================] - 0s 36ms/step - loss: 0.1882 - accuracy: 0.9294 - val_loss: 0.4784 - val_accuracy: 0.8255\n",
            "Epoch 12/15\n",
            "7/7 [==============================] - 0s 36ms/step - loss: 0.1367 - accuracy: 0.9561 - val_loss: 0.5362 - val_accuracy: 0.8438\n",
            "Epoch 13/15\n",
            "7/7 [==============================] - 0s 37ms/step - loss: 0.1070 - accuracy: 0.9645 - val_loss: 0.6469 - val_accuracy: 0.8385\n",
            "Epoch 14/15\n",
            "7/7 [==============================] - 0s 37ms/step - loss: 0.0725 - accuracy: 0.9775 - val_loss: 0.6755 - val_accuracy: 0.8359\n",
            "Epoch 15/15\n",
            "7/7 [==============================] - 0s 36ms/step - loss: 0.0499 - accuracy: 0.9850 - val_loss: 0.7367 - val_accuracy: 0.8281\n"
          ]
        }
      ],
      "source": [
        "model.compile(optimizer=\"adam\", loss=\"categorical_crossentropy\", metrics=[\"accuracy\"])\n",
        "\n",
        "history = model.fit(\n",
        "    X,\n",
        "    labels_train, \n",
        "    batch_size=500,\n",
        "    epochs=15,\n",
        "    validation_split=0.2\n",
        ")"
      ]
    },
    {
      "cell_type": "code",
      "execution_count": null,
      "metadata": {
        "id": "zPTTKEs5BWCC",
        "scrolled": true
      },
      "outputs": [],
      "source": [
        "ydft = y_test\n",
        "yt = ydft.to_numpy()\n",
        "test_listt = []\n",
        "for ele in yt:\n",
        "    test_listt.append(str(ele))\n",
        "target_encoded_test = Yencoder.transform(test_listt)\n",
        "y_encoded_test = target_encoded_test\n",
        "labels_test = to_categorical(y_encoded_test)\n",
        "sequencestest = tokenizer.texts_to_sequences(X_test.values.ravel())\n",
        "word_index = tokenizer.word_index\n",
        "Xt = pad_sequences(sequencestest, maxlen=max_len)"
      ]
    },
    {
      "cell_type": "code",
      "execution_count": null,
      "metadata": {
        "id": "fRAqx0AJBWE8",
        "scrolled": true,
        "colab": {
          "base_uri": "https://localhost:8080/"
        },
        "outputId": "bacbce4c-cca1-48f1-f056-30f4a0974207"
      },
      "outputs": [
        {
          "output_type": "stream",
          "name": "stdout",
          "text": [
            "30/30 [==============================] - 0s 3ms/step\n",
            "              precision    recall  f1-score   support\n",
            "\n",
            "           0       0.71      0.82      0.76       276\n",
            "           1       0.80      0.74      0.77       349\n",
            "           2       0.96      0.92      0.94       335\n",
            "\n",
            "    accuracy                           0.82       960\n",
            "   macro avg       0.82      0.82      0.82       960\n",
            "weighted avg       0.83      0.82      0.83       960\n",
            "\n"
          ]
        }
      ],
      "source": [
        "pred = model.predict(Xt)\n",
        "dfd = np.argmax(pred, axis=-1)\n",
        "target_encodedt = np.argmax(labels_test, axis=-1)\n",
        "from sklearn.metrics import classification_report\n",
        "print(classification_report(dfd,target_encodedt))"
      ]
    },
    {
      "cell_type": "code",
      "execution_count": null,
      "metadata": {
        "id": "youHgdIxBWHo",
        "scrolled": true
      },
      "outputs": [],
      "source": [
        "vocab_size = len(tokenizer.word_index) + 1"
      ]
    },
    {
      "cell_type": "markdown",
      "source": [
        "### Alternative LSTM algorithm"
      ],
      "metadata": {
        "id": "8QQnFgvtE0cr"
      }
    },
    {
      "cell_type": "code",
      "execution_count": null,
      "metadata": {
        "id": "538Hd5XVBQUS",
        "scrolled": true,
        "colab": {
          "base_uri": "https://localhost:8080/"
        },
        "outputId": "cb4cf33f-728e-426f-8d08-f094a22f83ca"
      },
      "outputs": [
        {
          "output_type": "stream",
          "name": "stdout",
          "text": [
            "Model: \"model_1\"\n",
            "_________________________________________________________________\n",
            " Layer (type)                Output Shape              Param #   \n",
            "=================================================================\n",
            " input_2 (InputLayer)        [(None, 35)]              0         \n",
            "                                                                 \n",
            " embedding_2 (Embedding)     (None, 35, 3000)          19713000  \n",
            "                                                                 \n",
            " lstm (LSTM)                 (None, 64)                784640    \n",
            "                                                                 \n",
            " dense_5 (Dense)             (None, 32)                2080      \n",
            "                                                                 \n",
            " dense_6 (Dense)             (None, 3)                 99        \n",
            "                                                                 \n",
            "=================================================================\n",
            "Total params: 20,499,819\n",
            "Trainable params: 20,499,819\n",
            "Non-trainable params: 0\n",
            "_________________________________________________________________\n"
          ]
        }
      ],
      "source": [
        "#LSTM - same result as transformer \n",
        "inputs = Input(shape=(max_len, ))\n",
        "embedding_layer = Embedding(vocab_size,\n",
        "                            3000,\n",
        "                            input_length=max_len)(inputs)\n",
        "\n",
        "x = LSTM(64)(embedding_layer)\n",
        "x = Dense(32, activation='relu')(x)\n",
        "predictions = Dense(3, activation='softmax')(x)\n",
        "model_lstm = Model(inputs=[inputs], outputs=predictions)\n",
        "model_lstm.compile(optimizer='adam',\n",
        "              loss='categorical_crossentropy',\n",
        "              metrics=['acc'])\n",
        "\n",
        "model_lstm.summary()"
      ]
    },
    {
      "cell_type": "code",
      "execution_count": null,
      "metadata": {
        "id": "bZs_pPI4Ii2P",
        "scrolled": true,
        "colab": {
          "base_uri": "https://localhost:8080/"
        },
        "outputId": "780b0554-c875-4f97-99ae-6a7a9c3caeb4"
      },
      "outputs": [
        {
          "output_type": "stream",
          "name": "stdout",
          "text": [
            "Epoch 1/20\n",
            "31/31 [==============================] - 4s 37ms/step - loss: 0.7770 - acc: 0.6136 - val_loss: 0.5038 - val_acc: 0.7396\n",
            "Epoch 2/20\n",
            "31/31 [==============================] - 1s 21ms/step - loss: 0.4132 - acc: 0.8213 - val_loss: 0.3877 - val_acc: 0.8333\n",
            "Epoch 3/20\n",
            "31/31 [==============================] - 1s 21ms/step - loss: 0.2405 - acc: 0.9105 - val_loss: 0.4039 - val_acc: 0.8242\n",
            "Epoch 4/20\n",
            "31/31 [==============================] - 1s 22ms/step - loss: 0.1322 - acc: 0.9587 - val_loss: 0.4687 - val_acc: 0.8320\n",
            "Epoch 5/20\n",
            "31/31 [==============================] - 1s 21ms/step - loss: 0.0828 - acc: 0.9717 - val_loss: 0.4828 - val_acc: 0.8346\n",
            "Epoch 6/20\n",
            "31/31 [==============================] - 1s 21ms/step - loss: 0.0532 - acc: 0.9844 - val_loss: 0.6447 - val_acc: 0.8216\n",
            "Epoch 7/20\n",
            "31/31 [==============================] - 1s 21ms/step - loss: 0.0330 - acc: 0.9912 - val_loss: 0.7260 - val_acc: 0.8268\n",
            "Epoch 8/20\n",
            "31/31 [==============================] - 1s 21ms/step - loss: 0.0299 - acc: 0.9922 - val_loss: 0.6989 - val_acc: 0.8294\n",
            "Epoch 9/20\n",
            "31/31 [==============================] - 1s 21ms/step - loss: 0.0240 - acc: 0.9928 - val_loss: 0.7367 - val_acc: 0.8229\n",
            "Epoch 10/20\n",
            "31/31 [==============================] - 1s 21ms/step - loss: 0.0148 - acc: 0.9945 - val_loss: 0.7851 - val_acc: 0.8229\n",
            "Epoch 11/20\n",
            "31/31 [==============================] - 1s 21ms/step - loss: 0.0144 - acc: 0.9961 - val_loss: 0.7818 - val_acc: 0.8203\n",
            "Epoch 12/20\n",
            "31/31 [==============================] - 1s 21ms/step - loss: 0.0128 - acc: 0.9958 - val_loss: 0.8362 - val_acc: 0.8255\n",
            "Epoch 13/20\n",
            "31/31 [==============================] - 1s 21ms/step - loss: 0.0121 - acc: 0.9964 - val_loss: 0.8300 - val_acc: 0.8242\n",
            "Epoch 14/20\n",
            "31/31 [==============================] - 1s 22ms/step - loss: 0.0058 - acc: 0.9974 - val_loss: 0.9022 - val_acc: 0.8255\n",
            "Epoch 15/20\n",
            "31/31 [==============================] - 1s 21ms/step - loss: 0.0090 - acc: 0.9958 - val_loss: 1.0106 - val_acc: 0.8112\n",
            "Epoch 16/20\n",
            "31/31 [==============================] - 1s 21ms/step - loss: 0.0130 - acc: 0.9948 - val_loss: 0.9760 - val_acc: 0.8229\n",
            "Epoch 17/20\n",
            "31/31 [==============================] - 1s 21ms/step - loss: 0.0231 - acc: 0.9928 - val_loss: 0.8495 - val_acc: 0.8268\n",
            "Epoch 18/20\n",
            "31/31 [==============================] - 1s 21ms/step - loss: 0.0353 - acc: 0.9896 - val_loss: 0.8833 - val_acc: 0.8099\n",
            "Epoch 19/20\n",
            "31/31 [==============================] - 1s 21ms/step - loss: 0.0331 - acc: 0.9876 - val_loss: 0.8504 - val_acc: 0.8112\n",
            "Epoch 20/20\n",
            "31/31 [==============================] - 1s 21ms/step - loss: 0.0218 - acc: 0.9919 - val_loss: 0.8373 - val_acc: 0.8216\n"
          ]
        }
      ],
      "source": [
        "filepath=\"weights.hdf5\"\n",
        "checkpointer = ModelCheckpoint(filepath, monitor='val_acc', verbose=1, save_best_only=True, mode='max')\n",
        "history = model_lstm.fit(X, labels_train,batch_size=100, verbose=1, validation_split=0.2, \n",
        "          shuffle=True, epochs=20)"
      ]
    },
    {
      "cell_type": "code",
      "execution_count": null,
      "metadata": {
        "id": "L1UuqfT9IjGl",
        "scrolled": true
      },
      "outputs": [],
      "source": [
        "ydft = y_test\n",
        "yt = ydft.to_numpy()\n",
        "test_listt = []\n",
        "for ele in yt:\n",
        "    test_listt.append(str(ele))\n",
        "target_encoded_test = Yencoder.transform(test_listt)\n",
        "y_encoded_test = target_encoded_test\n",
        "labels_test = to_categorical(y_encoded_test)\n",
        "sequencestest = tokenizer.texts_to_sequences(X_test.values.ravel())\n",
        "word_index = tokenizer.word_index\n",
        "Xt = pad_sequences(sequencestest, maxlen=max_len)"
      ]
    },
    {
      "cell_type": "code",
      "execution_count": null,
      "metadata": {
        "id": "GgZaUVBjIjos",
        "scrolled": true,
        "colab": {
          "base_uri": "https://localhost:8080/"
        },
        "outputId": "11e0013c-2d88-4a64-826f-a2bc9e3d7f41"
      },
      "outputs": [
        {
          "output_type": "stream",
          "name": "stdout",
          "text": [
            "30/30 [==============================] - 0s 3ms/step\n",
            "              precision    recall  f1-score   support\n",
            "\n",
            "           0       0.72      0.72      0.72       321\n",
            "           1       0.71      0.70      0.70       325\n",
            "           2       0.93      0.95      0.94       314\n",
            "\n",
            "    accuracy                           0.79       960\n",
            "   macro avg       0.79      0.79      0.79       960\n",
            "weighted avg       0.79      0.79      0.79       960\n",
            "\n"
          ]
        }
      ],
      "source": [
        "pred = model_lstm.predict(Xt)\n",
        "dfd = np.argmax(pred, axis=-1)\n",
        "target_encodedt = np.argmax(labels_test, axis=-1)\n",
        "from sklearn.metrics import classification_report\n",
        "print(classification_report(dfd,target_encodedt))"
      ]
    },
    {
      "cell_type": "code",
      "execution_count": null,
      "metadata": {
        "id": "wffINuROIjxF",
        "scrolled": true,
        "colab": {
          "base_uri": "https://localhost:8080/"
        },
        "outputId": "962171d5-82b3-47aa-c833-59418e6f17d2"
      },
      "outputs": [
        {
          "output_type": "stream",
          "name": "stderr",
          "text": [
            "WARNING:absl:Found untraced functions such as embedding_layer_call_fn, embedding_layer_call_and_return_conditional_losses, embedding_1_layer_call_fn, embedding_1_layer_call_and_return_conditional_losses, multi_head_attention_layer_call_fn while saving (showing 5 of 26). These functions will not be directly callable after loading.\n"
          ]
        },
        {
          "output_type": "execute_result",
          "data": {
            "text/plain": [
              "['reyrey_model.sav']"
            ]
          },
          "metadata": {},
          "execution_count": 32
        }
      ],
      "source": [
        "import joblib\n",
        "filename = \"reyrey_model.sav\"\n",
        "joblib.dump(model, filename)"
      ]
    },
    {
      "cell_type": "code",
      "execution_count": null,
      "metadata": {
        "id": "CvcuU0dYIsiJ",
        "scrolled": true
      },
      "outputs": [],
      "source": [
        "loaded_mod = joblib.load(filename)"
      ]
    },
    {
      "cell_type": "code",
      "source": [
        "model.save(gdrivePath + \"reyrey_model\")"
      ],
      "metadata": {
        "id": "pD2zXissdeWg",
        "colab": {
          "base_uri": "https://localhost:8080/"
        },
        "outputId": "6eba299b-e8e9-4838-83e7-517e76f276ce"
      },
      "execution_count": null,
      "outputs": [
        {
          "output_type": "stream",
          "name": "stderr",
          "text": [
            "WARNING:absl:Found untraced functions such as embedding_layer_call_fn, embedding_layer_call_and_return_conditional_losses, embedding_1_layer_call_fn, embedding_1_layer_call_and_return_conditional_losses, multi_head_attention_layer_call_fn while saving (showing 5 of 26). These functions will not be directly callable after loading.\n"
          ]
        }
      ]
    }
  ],
  "metadata": {
    "accelerator": "GPU",
    "colab": {
      "provenance": [],
      "include_colab_link": true
    },
    "kernelspec": {
      "display_name": "Python 3 (ipykernel)",
      "language": "python",
      "name": "python3"
    },
    "language_info": {
      "codemirror_mode": {
        "name": "ipython",
        "version": 3
      },
      "file_extension": ".py",
      "mimetype": "text/x-python",
      "name": "python",
      "nbconvert_exporter": "python",
      "pygments_lexer": "ipython3",
      "version": "3.10.2"
    }
  },
  "nbformat": 4,
  "nbformat_minor": 0
}